{
 "cells": [
  {
   "cell_type": "code",
   "execution_count": 2,
   "id": "060a4d75",
   "metadata": {},
   "outputs": [],
   "source": [
    "from qutip import *\n",
    "from sympy import Matrix, latex\n",
    "\n",
    "ket0 = basis(2,0) # Up State\n",
    "ket1 = basis(2,1) # Down State\n",
    "\n",
    "\n",
    "# Wavefunction given for in the 3_1\n",
    "psi = (tensor(ket1, ket0, ket0) + tensor(ket0, ket1, ket0) + tensor(ket1, ket1, ket0) + tensor(ket0, ket1, ket1)).unit()\n",
    "rho = ket2dm(psi)"
   ]
  },
  {
   "cell_type": "code",
   "execution_count": 3,
   "id": "1b4acc02",
   "metadata": {},
   "outputs": [
    {
     "name": "stdout",
     "output_type": "stream",
     "text": [
      "\\left[\\begin{matrix}0 & 0 & 0 & 0 & 0 & 0 & 0 & 0\\\\0 & 0 & 0 & 0 & 0 & 0 & 0 & 0\\\\0 & 0 & 0.25 & 0.25 & 0.25 & 0 & 0.25 & 0\\\\0 & 0 & 0.25 & 0.25 & 0.25 & 0 & 0.25 & 0\\\\0 & 0 & 0.25 & 0.25 & 0.25 & 0 & 0.25 & 0\\\\0 & 0 & 0 & 0 & 0 & 0 & 0 & 0\\\\0 & 0 & 0.25 & 0.25 & 0.25 & 0 & 0.25 & 0\\\\0 & 0 & 0 & 0 & 0 & 0 & 0 & 0\\end{matrix}\\right]\n"
     ]
    }
   ],
   "source": [
    "rho_sympy = Matrix(rho.full())\n",
    "print(latex(rho_sympy))"
   ]
  },
  {
   "cell_type": "code",
   "execution_count": 4,
   "id": "74fae585",
   "metadata": {},
   "outputs": [
    {
     "name": "stdout",
     "output_type": "stream",
     "text": [
      "-0.43301, -0.00000, 0.00000, 0.00000, 0.00000, 0.25000, 0.43301, 0.75000, \n",
      "\n",
      "\\left[\\begin{matrix}0 & 0 & 0 & 0 & 0 & 0 & 0.25 & 0.25\\\\0 & 0 & 0 & 0 & 0 & 0 & 0 & 0\\\\0 & 0 & 0.25 & 0.25 & 0 & 0 & 0.25 & 0.25\\\\0 & 0 & 0.25 & 0.25 & 0 & 0 & 0 & 0\\\\0 & 0 & 0 & 0 & 0.25 & 0 & 0.25 & 0\\\\0 & 0 & 0 & 0 & 0 & 0 & 0 & 0\\\\0.25 & 0 & 0.25 & 0 & 0.25 & 0 & 0.25 & 0\\\\0.25 & 0 & 0.25 & 0 & 0 & 0 & 0 & 0\\end{matrix}\\right]\n"
     ]
    }
   ],
   "source": [
    "rho_partial = partial_transpose(rho, [1,0,0]) # Partial Transpose with respect to subsystem a\n",
    "eigenvals = rho_partial.eigenenergies()\n",
    "\n",
    "for i in range(len(eigenvals)):\n",
    "    print(\"%.5f\"%eigenvals[i],end=\", \")\n",
    "\n",
    "print(\"\\n\")\n",
    "rho_partial_sympy = Matrix(rho_partial.full())\n",
    "print(latex(rho_partial_sympy))"
   ]
  },
  {
   "cell_type": "code",
   "execution_count": 5,
   "id": "c82af33c",
   "metadata": {},
   "outputs": [
    {
     "name": "stdout",
     "output_type": "stream",
     "text": [
      "[-3.53553391e-01 -1.44395746e-16  0.00000000e+00  0.00000000e+00\n",
      "  2.39382901e-17  1.46446609e-01  3.53553391e-01  8.53553391e-01]\n",
      "\\left[\\begin{matrix}0 & 0 & 0 & 0 & 0 & 0 & 0.25 & 0\\\\0 & 0 & 0 & 0 & 0 & 0 & 0.25 & 0\\\\0 & 0 & 0.25 & 0.25 & 0 & 0 & 0.25 & 0\\\\0 & 0 & 0.25 & 0.25 & 0 & 0 & 0.25 & 0\\\\0 & 0 & 0 & 0 & 0.25 & 0 & 0.25 & 0\\\\0 & 0 & 0 & 0 & 0 & 0 & 0 & 0\\\\0.25 & 0.25 & 0.25 & 0.25 & 0.25 & 0 & 0.25 & 0\\\\0 & 0 & 0 & 0 & 0 & 0 & 0 & 0\\end{matrix}\\right]\n"
     ]
    }
   ],
   "source": [
    "rho_partial = partial_transpose(rho, [0,1,0]) # Partial Transpose with respect to subsytem b\n",
    "eigenvals = rho_partial.eigenenergies()\n",
    "print(eigenvals)\n",
    "\n",
    "rho_partial_sympy = Matrix(rho_partial.full())\n",
    "print(latex(rho_partial_sympy))\n"
   ]
  },
  {
   "cell_type": "code",
   "execution_count": 6,
   "id": "2e01cb4f",
   "metadata": {},
   "outputs": [
    {
     "name": "stdout",
     "output_type": "stream",
     "text": [
      "[-4.33012702e-01 -4.67016704e-18  4.49117058e-17  5.16626570e-17\n",
      "  1.59443983e-16  2.50000000e-01  4.33012702e-01  7.50000000e-01]\n",
      "\\left[\\begin{matrix}0 & 0 & 0 & 0 & 0 & 0 & 0.25 & 0.25\\\\0 & 0 & 0 & 0 & 0 & 0 & 0 & 0\\\\0 & 0 & 0.25 & 0.25 & 0 & 0 & 0.25 & 0.25\\\\0 & 0 & 0.25 & 0.25 & 0 & 0 & 0 & 0\\\\0 & 0 & 0 & 0 & 0.25 & 0 & 0.25 & 0\\\\0 & 0 & 0 & 0 & 0 & 0 & 0 & 0\\\\0.25 & 0 & 0.25 & 0 & 0.25 & 0 & 0.25 & 0\\\\0.25 & 0 & 0.25 & 0 & 0 & 0 & 0 & 0\\end{matrix}\\right]\n"
     ]
    }
   ],
   "source": [
    "rho_partial = partial_transpose(rho_partial, [0,0,1]) # Partial Transpose with respect to subsystem c\n",
    "eigenvals = rho_partial.eigenenergies()\n",
    "print(eigenvals)\n",
    "\n",
    "rho_partial_sympy = Matrix(rho_partial.full())\n",
    "print(latex(rho_partial_sympy))\n"
   ]
  },
  {
   "cell_type": "code",
   "execution_count": 7,
   "id": "57c26277",
   "metadata": {},
   "outputs": [
    {
     "name": "stdout",
     "output_type": "stream",
     "text": [
      "\\left[\\begin{matrix}0.25 & 0 & 0.25 & 0\\\\0 & 0 & 0 & 0\\\\0.25 & 0 & 0.5 & 0.25\\\\0 & 0 & 0.25 & 0.25\\end{matrix}\\right]\n"
     ]
    }
   ],
   "source": [
    "# partial trace with respect to a\n",
    "rho_pa = ptrace(rho,[1,2])\n",
    "rho_pa_sympy = Matrix(rho_pa)\n",
    "print(latex(rho_pa_sympy))"
   ]
  },
  {
   "cell_type": "code",
   "execution_count": 8,
   "id": "f1757dd8",
   "metadata": {},
   "outputs": [
    {
     "name": "stdout",
     "output_type": "stream",
     "text": [
      "\\left[\\begin{matrix}0.25 & 0.25 & 0.25 & 0\\\\0.25 & 0.25 & 0.25 & 0\\\\0.25 & 0.25 & 0.5 & 0\\\\0 & 0 & 0 & 0\\end{matrix}\\right]\n"
     ]
    }
   ],
   "source": [
    "# partial trace with respect to b\n",
    "rho_pb = ptrace(rho,[0,2])\n",
    "rho_pb_sympy = Matrix(rho_pb)\n",
    "print(latex(rho_pb_sympy))\n"
   ]
  },
  {
   "cell_type": "code",
   "execution_count": 9,
   "id": "6f797472",
   "metadata": {},
   "outputs": [
    {
     "name": "stdout",
     "output_type": "stream",
     "text": [
      "\\left[\\begin{matrix}0 & 0 & 0 & 0\\\\0 & 0.5 & 0.25 & 0.25\\\\0 & 0.25 & 0.25 & 0.25\\\\0 & 0.25 & 0.25 & 0.25\\end{matrix}\\right]\n"
     ]
    }
   ],
   "source": [
    "# partial trace with respect to c\n",
    "rho_pc = ptrace(rho,[0,1])\n",
    "rho_pc_sympy = Matrix(rho_pc)\n",
    "print(latex(rho_pc_sympy))"
   ]
  },
  {
   "cell_type": "code",
   "execution_count": 10,
   "id": "d4edd1dc",
   "metadata": {},
   "outputs": [
    {
     "name": "stdout",
     "output_type": "stream",
     "text": [
      "[0.00000000e+00 9.81263409e-18 2.50000000e-01 7.50000000e-01]\n",
      "\\left[\\begin{matrix}0.25 & 0 & 0.25 & 0\\\\0 & 0 & 0 & 0\\\\0.25 & 0 & 0.5 & 0.25\\\\0 & 0 & 0.25 & 0.25\\end{matrix}\\right]\n"
     ]
    }
   ],
   "source": [
    "rho_a_pb = partial_transpose(rho_pa, [1,0]) # partial trace of p_bc with respect to a\n",
    "eigenvals = rho_a_pb.eigenenergies()\n",
    "\n",
    "print(eigenvals)\n",
    "\n",
    "matrix = Matrix(rho_a_pb.full())\n",
    "print(latex(matrix))"
   ]
  },
  {
   "cell_type": "code",
   "execution_count": 11,
   "id": "ec632cfa",
   "metadata": {},
   "outputs": [
    {
     "name": "stdout",
     "output_type": "stream",
     "text": [
      "[-0.23296291  0.12059048  0.37940952  0.73296291]\n",
      "\\left[\\begin{matrix}0 & 0 & 0 & 0.25\\\\0 & 0.5 & 0 & 0.25\\\\0 & 0 & 0.25 & 0.25\\\\0.25 & 0.25 & 0.25 & 0.25\\end{matrix}\\right]\n"
     ]
    }
   ],
   "source": [
    "rho_a_pc = partial_transpose(rho_pc, [1,0]) # partial trace of p_bc with respect to a\n",
    "eigenvals = rho_a_pc.eigenenergies()\n",
    "\n",
    "print(eigenvals)\n",
    "\n",
    "matrix = Matrix(rho_a_pc.full())\n",
    "print(latex(matrix))"
   ]
  },
  {
   "cell_type": "code",
   "execution_count": 12,
   "id": "3b2f7461",
   "metadata": {},
   "outputs": [
    {
     "name": "stdout",
     "output_type": "stream",
     "text": [
      "[-0.23296291  0.12059048  0.37940952  0.73296291]\n",
      "\\left[\\begin{matrix}0.25 & 0.25 & 0.25 & 0.25\\\\0.25 & 0.25 & 0 & 0\\\\0.25 & 0 & 0.5 & 0\\\\0.25 & 0 & 0 & 0\\end{matrix}\\right]\n"
     ]
    }
   ],
   "source": [
    "rho_b_pa = partial_transpose(rho_pb, [1,0]) # partial trace of p_bc with respect to a\n",
    "eigenvals = rho_b_pa.eigenenergies()\n",
    "\n",
    "print(eigenvals)\n",
    "\n",
    "matrix = Matrix(rho_b_pa.full())\n",
    "print(latex(matrix))"
   ]
  },
  {
   "cell_type": "markdown",
   "id": "0564023f",
   "metadata": {},
   "source": [
    "### Four Qubit System \n",
    "##### Computing The Density Matrix and Checking Four-Partite Entanglement:"
   ]
  },
  {
   "cell_type": "code",
   "execution_count": 13,
   "id": "90fb5165",
   "metadata": {},
   "outputs": [],
   "source": [
    "import numpy as np\n",
    "psi_1 = 1/np.sqrt(2) * (tensor(ket0, ket0, ket0, ket0) + tensor(ket1, ket1, ket1, ket0))\n",
    "psi_2 = 1/np.sqrt(2) * (tensor(ket0, ket0, ket0, ket0) + tensor(ket1, ket1, ket0, ket1))\n",
    "psi_3 = 1/np.sqrt(2) * (tensor(ket0,ket1,ket0,ket0) + tensor(ket1,ket1,ket1,ket0))\n",
    "\n",
    "rho = ket2dm(psi_1) + ket2dm(psi_2) + ket2dm(psi_3)\n",
    "rho = rho.unit()"
   ]
  },
  {
   "cell_type": "code",
   "execution_count": 14,
   "id": "7ca01a82",
   "metadata": {},
   "outputs": [
    {
     "name": "stdout",
     "output_type": "stream",
     "text": [
      "\\left[\\begin{array}{cccccccccccccccc}0.333333333333333 & 0 & 0 & 0 & 0 & 0 & 0 & 0 & 0 & 0 & 0 & 0 & 0 & 0.166666666666667 & 0.166666666666667 & 0\\\\0 & 0 & 0 & 0 & 0 & 0 & 0 & 0 & 0 & 0 & 0 & 0 & 0 & 0 & 0 & 0\\\\0 & 0 & 0 & 0 & 0 & 0 & 0 & 0 & 0 & 0 & 0 & 0 & 0 & 0 & 0 & 0\\\\0 & 0 & 0 & 0 & 0 & 0 & 0 & 0 & 0 & 0 & 0 & 0 & 0 & 0 & 0 & 0\\\\0 & 0 & 0 & 0 & 0.166666666666667 & 0 & 0 & 0 & 0 & 0 & 0 & 0 & 0 & 0 & 0.166666666666667 & 0\\\\0 & 0 & 0 & 0 & 0 & 0 & 0 & 0 & 0 & 0 & 0 & 0 & 0 & 0 & 0 & 0\\\\0 & 0 & 0 & 0 & 0 & 0 & 0 & 0 & 0 & 0 & 0 & 0 & 0 & 0 & 0 & 0\\\\0 & 0 & 0 & 0 & 0 & 0 & 0 & 0 & 0 & 0 & 0 & 0 & 0 & 0 & 0 & 0\\\\0 & 0 & 0 & 0 & 0 & 0 & 0 & 0 & 0 & 0 & 0 & 0 & 0 & 0 & 0 & 0\\\\0 & 0 & 0 & 0 & 0 & 0 & 0 & 0 & 0 & 0 & 0 & 0 & 0 & 0 & 0 & 0\\\\0 & 0 & 0 & 0 & 0 & 0 & 0 & 0 & 0 & 0 & 0 & 0 & 0 & 0 & 0 & 0\\\\0 & 0 & 0 & 0 & 0 & 0 & 0 & 0 & 0 & 0 & 0 & 0 & 0 & 0 & 0 & 0\\\\0 & 0 & 0 & 0 & 0 & 0 & 0 & 0 & 0 & 0 & 0 & 0 & 0 & 0 & 0 & 0\\\\0.166666666666667 & 0 & 0 & 0 & 0 & 0 & 0 & 0 & 0 & 0 & 0 & 0 & 0 & 0.166666666666667 & 0 & 0\\\\0.166666666666667 & 0 & 0 & 0 & 0.166666666666667 & 0 & 0 & 0 & 0 & 0 & 0 & 0 & 0 & 0 & 0.333333333333333 & 0\\\\0 & 0 & 0 & 0 & 0 & 0 & 0 & 0 & 0 & 0 & 0 & 0 & 0 & 0 & 0 & 0\\end{array}\\right]\n"
     ]
    }
   ],
   "source": [
    "rho_sympy = Matrix(rho.full())\n",
    "print(latex(rho_sympy))"
   ]
  },
  {
   "cell_type": "code",
   "execution_count": 15,
   "id": "914db878",
   "metadata": {},
   "outputs": [
    {
     "name": "stdout",
     "output_type": "stream",
     "text": [
      "-0.270, -0.103, 0.000, 0.000, 0.000, 0.000, 0.000, 0.000, 0.000, 0.000, 0.103, 0.167, 0.167, 0.270, 0.333, 0.333, \n",
      "\n",
      "\\left[\\begin{array}{cccccccccccccccc}0.333333333333333 & 0 & 0 & 0 & 0 & 0 & 0 & 0 & 0 & 0 & 0 & 0 & 0 & 0 & 0 & 0\\\\0 & 0 & 0 & 0 & 0 & 0 & 0 & 0 & 0 & 0 & 0 & 0 & 0 & 0 & 0 & 0\\\\0 & 0 & 0 & 0 & 0 & 0 & 0 & 0 & 0 & 0 & 0 & 0 & 0 & 0 & 0 & 0\\\\0 & 0 & 0 & 0 & 0 & 0 & 0 & 0 & 0 & 0 & 0 & 0 & 0 & 0 & 0 & 0\\\\0 & 0 & 0 & 0 & 0.166666666666667 & 0 & 0 & 0 & 0 & 0 & 0 & 0 & 0 & 0 & 0 & 0\\\\0 & 0 & 0 & 0 & 0 & 0 & 0 & 0 & 0.166666666666667 & 0 & 0 & 0 & 0 & 0 & 0 & 0\\\\0 & 0 & 0 & 0 & 0 & 0 & 0 & 0 & 0.166666666666667 & 0 & 0 & 0 & 0.166666666666667 & 0 & 0 & 0\\\\0 & 0 & 0 & 0 & 0 & 0 & 0 & 0 & 0 & 0 & 0 & 0 & 0 & 0 & 0 & 0\\\\0 & 0 & 0 & 0 & 0 & 0.166666666666667 & 0.166666666666667 & 0 & 0 & 0 & 0 & 0 & 0 & 0 & 0 & 0\\\\0 & 0 & 0 & 0 & 0 & 0 & 0 & 0 & 0 & 0 & 0 & 0 & 0 & 0 & 0 & 0\\\\0 & 0 & 0 & 0 & 0 & 0 & 0 & 0 & 0 & 0 & 0 & 0 & 0 & 0 & 0 & 0\\\\0 & 0 & 0 & 0 & 0 & 0 & 0 & 0 & 0 & 0 & 0 & 0 & 0 & 0 & 0 & 0\\\\0 & 0 & 0 & 0 & 0 & 0 & 0.166666666666667 & 0 & 0 & 0 & 0 & 0 & 0 & 0 & 0 & 0\\\\0 & 0 & 0 & 0 & 0 & 0 & 0 & 0 & 0 & 0 & 0 & 0 & 0 & 0.166666666666667 & 0 & 0\\\\0 & 0 & 0 & 0 & 0 & 0 & 0 & 0 & 0 & 0 & 0 & 0 & 0 & 0 & 0.333333333333333 & 0\\\\0 & 0 & 0 & 0 & 0 & 0 & 0 & 0 & 0 & 0 & 0 & 0 & 0 & 0 & 0 & 0\\end{array}\\right]\n"
     ]
    }
   ],
   "source": [
    "# partial transpose with respect to subsystem A\n",
    "rho_partial = partial_transpose(rho, [1,0,0,0]) # Partial Transpose with respect to subsystem a\n",
    "eigenvals = rho_partial.eigenenergies()\n",
    "\n",
    "for i in range(len(eigenvals)):\n",
    "    print(\"%.3f\"%eigenvals[i],end=\", \")\n",
    "\n",
    "print(\"\\n\")\n",
    "rho_partial_sympy = Matrix(rho_partial.full())\n",
    "print(latex(rho_partial_sympy))"
   ]
  },
  {
   "cell_type": "code",
   "execution_count": 16,
   "id": "8314b4cf",
   "metadata": {},
   "outputs": [
    {
     "name": "stdout",
     "output_type": "stream",
     "text": [
      "-0.186, -0.000, -0.000, 0.000, 0.000, 0.000, 0.000, 0.000, 0.000, 0.000, 0.000, 0.000, 0.167, 0.209, 0.333, 0.477, \n",
      "\n",
      "\\left[\\begin{array}{cccccccccccccccc}0.333333333333333 & 0 & 0 & 0 & 0 & 0 & 0 & 0 & 0 & 0 & 0 & 0 & 0 & 0 & 0 & 0\\\\0 & 0 & 0 & 0 & 0 & 0 & 0 & 0 & 0 & 0 & 0 & 0 & 0 & 0 & 0 & 0\\\\0 & 0 & 0 & 0 & 0 & 0 & 0 & 0 & 0 & 0 & 0 & 0 & 0 & 0 & 0 & 0\\\\0 & 0 & 0 & 0 & 0 & 0 & 0 & 0 & 0 & 0 & 0 & 0 & 0 & 0 & 0 & 0\\\\0 & 0 & 0 & 0 & 0.166666666666667 & 0 & 0 & 0 & 0 & 0.166666666666667 & 0.166666666666667 & 0 & 0 & 0 & 0.166666666666667 & 0\\\\0 & 0 & 0 & 0 & 0 & 0 & 0 & 0 & 0 & 0 & 0 & 0 & 0 & 0 & 0 & 0\\\\0 & 0 & 0 & 0 & 0 & 0 & 0 & 0 & 0 & 0 & 0 & 0 & 0 & 0 & 0 & 0\\\\0 & 0 & 0 & 0 & 0 & 0 & 0 & 0 & 0 & 0 & 0 & 0 & 0 & 0 & 0 & 0\\\\0 & 0 & 0 & 0 & 0 & 0 & 0 & 0 & 0 & 0 & 0 & 0 & 0 & 0 & 0 & 0\\\\0 & 0 & 0 & 0 & 0.166666666666667 & 0 & 0 & 0 & 0 & 0 & 0 & 0 & 0 & 0 & 0 & 0\\\\0 & 0 & 0 & 0 & 0.166666666666667 & 0 & 0 & 0 & 0 & 0 & 0 & 0 & 0 & 0 & 0 & 0\\\\0 & 0 & 0 & 0 & 0 & 0 & 0 & 0 & 0 & 0 & 0 & 0 & 0 & 0 & 0 & 0\\\\0 & 0 & 0 & 0 & 0 & 0 & 0 & 0 & 0 & 0 & 0 & 0 & 0 & 0 & 0 & 0\\\\0 & 0 & 0 & 0 & 0 & 0 & 0 & 0 & 0 & 0 & 0 & 0 & 0 & 0.166666666666667 & 0 & 0\\\\0 & 0 & 0 & 0 & 0.166666666666667 & 0 & 0 & 0 & 0 & 0 & 0 & 0 & 0 & 0 & 0.333333333333333 & 0\\\\0 & 0 & 0 & 0 & 0 & 0 & 0 & 0 & 0 & 0 & 0 & 0 & 0 & 0 & 0 & 0\\end{array}\\right]\n"
     ]
    }
   ],
   "source": [
    "# partial transpose with respect to subsystem B\n",
    "rho_partial = partial_transpose(rho, [0,1,0,0]) # Partial Transpose with respect to subsystem b\n",
    "eigenvals = rho_partial.eigenenergies()\n",
    "\n",
    "for i in range(len(eigenvals)):\n",
    "    print(\"%.3f\"%eigenvals[i],end=\", \")\n",
    "\n",
    "print(\"\\n\")\n",
    "rho_partial_sympy = Matrix(rho_partial.full())\n",
    "print(latex(rho_partial_sympy))"
   ]
  },
  {
   "cell_type": "code",
   "execution_count": 17,
   "id": "7c72c1b5",
   "metadata": {},
   "outputs": [
    {
     "name": "stdout",
     "output_type": "stream",
     "text": [
      "-0.236, -0.000, 0.000, 0.000, 0.000, 0.000, 0.000, 0.000, 0.000, 0.000, 0.000, 0.064, 0.167, 0.236, 0.333, 0.436, \n",
      "\n",
      "\\left[\\begin{array}{cccccccccccccccc}0.333333333333333 & 0 & 0 & 0 & 0 & 0 & 0 & 0 & 0 & 0 & 0 & 0 & 0 & 0.166666666666667 & 0 & 0\\\\0 & 0 & 0 & 0 & 0 & 0 & 0 & 0 & 0 & 0 & 0 & 0 & 0 & 0 & 0 & 0\\\\0 & 0 & 0 & 0 & 0 & 0 & 0 & 0 & 0 & 0 & 0 & 0 & 0.166666666666667 & 0 & 0 & 0\\\\0 & 0 & 0 & 0 & 0 & 0 & 0 & 0 & 0 & 0 & 0 & 0 & 0 & 0 & 0 & 0\\\\0 & 0 & 0 & 0 & 0.166666666666667 & 0 & 0 & 0 & 0 & 0 & 0 & 0 & 0 & 0 & 0 & 0\\\\0 & 0 & 0 & 0 & 0 & 0 & 0 & 0 & 0 & 0 & 0 & 0 & 0 & 0 & 0 & 0\\\\0 & 0 & 0 & 0 & 0 & 0 & 0 & 0 & 0 & 0 & 0 & 0 & 0.166666666666667 & 0 & 0 & 0\\\\0 & 0 & 0 & 0 & 0 & 0 & 0 & 0 & 0 & 0 & 0 & 0 & 0 & 0 & 0 & 0\\\\0 & 0 & 0 & 0 & 0 & 0 & 0 & 0 & 0 & 0 & 0 & 0 & 0 & 0 & 0 & 0\\\\0 & 0 & 0 & 0 & 0 & 0 & 0 & 0 & 0 & 0 & 0 & 0 & 0 & 0 & 0 & 0\\\\0 & 0 & 0 & 0 & 0 & 0 & 0 & 0 & 0 & 0 & 0 & 0 & 0 & 0 & 0 & 0\\\\0 & 0 & 0 & 0 & 0 & 0 & 0 & 0 & 0 & 0 & 0 & 0 & 0 & 0 & 0 & 0\\\\0 & 0 & 0.166666666666667 & 0 & 0 & 0 & 0.166666666666667 & 0 & 0 & 0 & 0 & 0 & 0 & 0 & 0 & 0\\\\0.166666666666667 & 0 & 0 & 0 & 0 & 0 & 0 & 0 & 0 & 0 & 0 & 0 & 0 & 0.166666666666667 & 0 & 0\\\\0 & 0 & 0 & 0 & 0 & 0 & 0 & 0 & 0 & 0 & 0 & 0 & 0 & 0 & 0.333333333333333 & 0\\\\0 & 0 & 0 & 0 & 0 & 0 & 0 & 0 & 0 & 0 & 0 & 0 & 0 & 0 & 0 & 0\\end{array}\\right]\n"
     ]
    }
   ],
   "source": [
    "# partial transpose with respect to subsystem C\n",
    "rho_partial = partial_transpose(rho, [0,0,1,0]) # Partial Transpose with respect to subsystem c\n",
    "eigenvals = rho_partial.eigenenergies()\n",
    "\n",
    "for i in range(len(eigenvals)):\n",
    "    print(\"%.3f\"%eigenvals[i],end=\", \")\n",
    "\n",
    "print(\"\\n\")\n",
    "rho_partial_sympy = Matrix(rho_partial.full())\n",
    "print(latex(rho_partial_sympy))"
   ]
  },
  {
   "cell_type": "code",
   "execution_count": 18,
   "id": "b00af23f",
   "metadata": {},
   "outputs": [
    {
     "name": "stdout",
     "output_type": "stream",
     "text": [
      "-0.167, 0.000, 0.000, 0.000, 0.000, 0.000, 0.000, 0.000, 0.000, 0.000, 0.000, 0.033, 0.167, 0.167, 0.259, 0.541, \n",
      "\n",
      "\\left[\\begin{array}{cccccccccccccccc}0.333333333333333 & 0 & 0 & 0 & 0 & 0 & 0 & 0 & 0 & 0 & 0 & 0 & 0 & 0 & 0.166666666666667 & 0\\\\0 & 0 & 0 & 0 & 0 & 0 & 0 & 0 & 0 & 0 & 0 & 0 & 0.166666666666667 & 0 & 0 & 0\\\\0 & 0 & 0 & 0 & 0 & 0 & 0 & 0 & 0 & 0 & 0 & 0 & 0 & 0 & 0 & 0\\\\0 & 0 & 0 & 0 & 0 & 0 & 0 & 0 & 0 & 0 & 0 & 0 & 0 & 0 & 0 & 0\\\\0 & 0 & 0 & 0 & 0.166666666666667 & 0 & 0 & 0 & 0 & 0 & 0 & 0 & 0 & 0 & 0.166666666666667 & 0\\\\0 & 0 & 0 & 0 & 0 & 0 & 0 & 0 & 0 & 0 & 0 & 0 & 0 & 0 & 0 & 0\\\\0 & 0 & 0 & 0 & 0 & 0 & 0 & 0 & 0 & 0 & 0 & 0 & 0 & 0 & 0 & 0\\\\0 & 0 & 0 & 0 & 0 & 0 & 0 & 0 & 0 & 0 & 0 & 0 & 0 & 0 & 0 & 0\\\\0 & 0 & 0 & 0 & 0 & 0 & 0 & 0 & 0 & 0 & 0 & 0 & 0 & 0 & 0 & 0\\\\0 & 0 & 0 & 0 & 0 & 0 & 0 & 0 & 0 & 0 & 0 & 0 & 0 & 0 & 0 & 0\\\\0 & 0 & 0 & 0 & 0 & 0 & 0 & 0 & 0 & 0 & 0 & 0 & 0 & 0 & 0 & 0\\\\0 & 0 & 0 & 0 & 0 & 0 & 0 & 0 & 0 & 0 & 0 & 0 & 0 & 0 & 0 & 0\\\\0 & 0.166666666666667 & 0 & 0 & 0 & 0 & 0 & 0 & 0 & 0 & 0 & 0 & 0 & 0 & 0 & 0\\\\0 & 0 & 0 & 0 & 0 & 0 & 0 & 0 & 0 & 0 & 0 & 0 & 0 & 0.166666666666667 & 0 & 0\\\\0.166666666666667 & 0 & 0 & 0 & 0.166666666666667 & 0 & 0 & 0 & 0 & 0 & 0 & 0 & 0 & 0 & 0.333333333333333 & 0\\\\0 & 0 & 0 & 0 & 0 & 0 & 0 & 0 & 0 & 0 & 0 & 0 & 0 & 0 & 0 & 0\\end{array}\\right]\n"
     ]
    }
   ],
   "source": [
    "# partial transpose with respect to subsystem D\n",
    "rho_partial = partial_transpose(rho, [0,0,0,1]) # Partial Transpose with respect to subsystem d\n",
    "eigenvals = rho_partial.eigenenergies()\n",
    "\n",
    "for i in range(len(eigenvals)):\n",
    "    print(\"%.3f\"%eigenvals[i],end=\", \")\n",
    "\n",
    "print(\"\\n\")\n",
    "rho_partial_sympy = Matrix(rho_partial.full())\n",
    "print(latex(rho_partial_sympy))"
   ]
  },
  {
   "cell_type": "markdown",
   "id": "3162ad1e",
   "metadata": {},
   "source": [
    "##### Computing Partial Trace with respect to system A:"
   ]
  },
  {
   "cell_type": "code",
   "execution_count": 19,
   "id": "bc8c0017",
   "metadata": {},
   "outputs": [
    {
     "name": "stdout",
     "output_type": "stream",
     "text": [
      "\\left[\\begin{matrix}0.333333333333333 & 0 & 0 & 0 & 0 & 0 & 0 & 0\\\\0 & 0 & 0 & 0 & 0 & 0 & 0 & 0\\\\0 & 0 & 0 & 0 & 0 & 0 & 0 & 0\\\\0 & 0 & 0 & 0 & 0 & 0 & 0 & 0\\\\0 & 0 & 0 & 0 & 0.166666666666667 & 0 & 0 & 0\\\\0 & 0 & 0 & 0 & 0 & 0.166666666666667 & 0 & 0\\\\0 & 0 & 0 & 0 & 0 & 0 & 0.333333333333333 & 0\\\\0 & 0 & 0 & 0 & 0 & 0 & 0 & 0\\end{matrix}\\right]\n"
     ]
    }
   ],
   "source": [
    "# partial trace with respect to a\n",
    "rho_bcd = ptrace(rho,[1,2,3])\n",
    "rho_bcd_sympy = Matrix(rho_bcd)\n",
    "print(latex(rho_bcd_sympy))"
   ]
  },
  {
   "cell_type": "markdown",
   "id": "eb128a40",
   "metadata": {},
   "source": [
    "##### Computing Partial Trace with respect to system B:"
   ]
  },
  {
   "cell_type": "code",
   "execution_count": 20,
   "id": "3e6fceea",
   "metadata": {},
   "outputs": [
    {
     "name": "stdout",
     "output_type": "stream",
     "text": [
      "\\left[\\begin{matrix}0.5 & 0 & 0 & 0 & 0 & 0 & 0.166666666666667 & 0\\\\0 & 0 & 0 & 0 & 0 & 0 & 0 & 0\\\\0 & 0 & 0 & 0 & 0 & 0 & 0 & 0\\\\0 & 0 & 0 & 0 & 0 & 0 & 0 & 0\\\\0 & 0 & 0 & 0 & 0 & 0 & 0 & 0\\\\0 & 0 & 0 & 0 & 0 & 0.166666666666667 & 0 & 0\\\\0.166666666666667 & 0 & 0 & 0 & 0 & 0 & 0.333333333333333 & 0\\\\0 & 0 & 0 & 0 & 0 & 0 & 0 & 0\\end{matrix}\\right]\n"
     ]
    }
   ],
   "source": [
    "# partial trace with respect to b\n",
    "rho_acd = ptrace(rho,[0,2,3])\n",
    "rho_acd_sympy = Matrix(rho_acd)\n",
    "print(latex(rho_acd_sympy))"
   ]
  },
  {
   "cell_type": "code",
   "execution_count": 21,
   "id": "57345654",
   "metadata": {},
   "outputs": [
    {
     "name": "stdout",
     "output_type": "stream",
     "text": [
      "-0.167, 0.000, 0.000, 0.000, 0.167, 0.167, 0.333, 0.500, \n",
      "\n",
      "\\left[\\begin{matrix}0.5 & 0 & 0 & 0 & 0 & 0 & 0 & 0\\\\0 & 0 & 0 & 0 & 0 & 0 & 0 & 0\\\\0 & 0 & 0 & 0 & 0.166666666666667 & 0 & 0 & 0\\\\0 & 0 & 0 & 0 & 0 & 0 & 0 & 0\\\\0 & 0 & 0.166666666666667 & 0 & 0 & 0 & 0 & 0\\\\0 & 0 & 0 & 0 & 0 & 0.166666666666667 & 0 & 0\\\\0 & 0 & 0 & 0 & 0 & 0 & 0.333333333333333 & 0\\\\0 & 0 & 0 & 0 & 0 & 0 & 0 & 0\\end{matrix}\\right]\n"
     ]
    }
   ],
   "source": [
    "# Partial Transpose with respect to A\n",
    "rho_partial = partial_transpose(rho_acd, [1,0,0]) \n",
    "eigenvals = rho_partial.eigenenergies()\n",
    "\n",
    "for i in range(len(eigenvals)):\n",
    "    print(\"%.3f\"%eigenvals[i],end=\", \")\n",
    "\n",
    "print(\"\\n\")\n",
    "rho_partial_sympy = Matrix(rho_partial.full())\n",
    "print(latex(rho_partial_sympy))"
   ]
  },
  {
   "cell_type": "code",
   "execution_count": 22,
   "id": "37d48a59",
   "metadata": {},
   "outputs": [
    {
     "name": "stdout",
     "output_type": "stream",
     "text": [
      "-0.167, 0.000, 0.000, 0.000, 0.167, 0.167, 0.333, 0.500, \n",
      "\n",
      "\\left[\\begin{matrix}0.5 & 0 & 0 & 0 & 0 & 0 & 0 & 0\\\\0 & 0 & 0 & 0 & 0 & 0 & 0 & 0\\\\0 & 0 & 0 & 0 & 0.166666666666667 & 0 & 0 & 0\\\\0 & 0 & 0 & 0 & 0 & 0 & 0 & 0\\\\0 & 0 & 0.166666666666667 & 0 & 0 & 0 & 0 & 0\\\\0 & 0 & 0 & 0 & 0 & 0.166666666666667 & 0 & 0\\\\0 & 0 & 0 & 0 & 0 & 0 & 0.333333333333333 & 0\\\\0 & 0 & 0 & 0 & 0 & 0 & 0 & 0\\end{matrix}\\right]\n"
     ]
    }
   ],
   "source": [
    "# Partial Transpose with respect to C\n",
    "rho_partial = partial_transpose(rho_acd, [0,1,0]) \n",
    "eigenvals = rho_partial.eigenenergies()\n",
    "\n",
    "for i in range(len(eigenvals)):\n",
    "    print(\"%.3f\"%eigenvals[i],end=\", \")\n",
    "\n",
    "print(\"\\n\")\n",
    "rho_partial_sympy = Matrix(rho_partial.full())\n",
    "print(latex(rho_partial_sympy))"
   ]
  },
  {
   "cell_type": "code",
   "execution_count": 23,
   "id": "f094dcda",
   "metadata": {},
   "outputs": [
    {
     "name": "stdout",
     "output_type": "stream",
     "text": [
      "0.000, 0.000, 0.000, 0.000, 0.000, 0.167, 0.230, 0.603, \n",
      "\n",
      "\\left[\\begin{matrix}0.5 & 0 & 0 & 0 & 0 & 0 & 0.166666666666667 & 0\\\\0 & 0 & 0 & 0 & 0 & 0 & 0 & 0\\\\0 & 0 & 0 & 0 & 0 & 0 & 0 & 0\\\\0 & 0 & 0 & 0 & 0 & 0 & 0 & 0\\\\0 & 0 & 0 & 0 & 0 & 0 & 0 & 0\\\\0 & 0 & 0 & 0 & 0 & 0.166666666666667 & 0 & 0\\\\0.166666666666667 & 0 & 0 & 0 & 0 & 0 & 0.333333333333333 & 0\\\\0 & 0 & 0 & 0 & 0 & 0 & 0 & 0\\end{matrix}\\right]\n"
     ]
    }
   ],
   "source": [
    "# Partial Transpose with respect to D\n",
    "rho_partial = partial_transpose(rho_acd, [0,0,1]) \n",
    "eigenvals = rho_partial.eigenenergies()\n",
    "\n",
    "for i in range(len(eigenvals)):\n",
    "    print(\"%.3f\"%eigenvals[i],end=\", \")\n",
    "\n",
    "print(\"\\n\")\n",
    "rho_partial_sympy = Matrix(rho_partial.full())\n",
    "print(latex(rho_partial_sympy))"
   ]
  },
  {
   "cell_type": "code",
   "execution_count": 24,
   "id": "6093fa18",
   "metadata": {},
   "outputs": [
    {
     "name": "stdout",
     "output_type": "stream",
     "text": [
      "\\left[\\begin{matrix}0\\\\0\\\\1.0\\\\0\\\\0\\\\0\\\\0\\\\0\\end{matrix}\\right]\n",
      "\\left[\\begin{matrix}0\\\\0\\\\0\\\\1.0\\\\0\\\\0\\\\0\\\\0\\end{matrix}\\right]\n",
      "\\left[\\begin{matrix}0\\\\0\\\\0\\\\0\\\\1.0\\\\0\\\\0\\\\0\\end{matrix}\\right]\n",
      "\\left[\\begin{matrix}0\\\\-1.0\\\\0\\\\0\\\\0\\\\0\\\\0\\\\0\\end{matrix}\\right]\n",
      "\\left[\\begin{matrix}0\\\\0\\\\0\\\\0\\\\0\\\\0\\\\0\\\\1.0\\end{matrix}\\right]\n",
      "\\left[\\begin{matrix}0\\\\0\\\\0\\\\0\\\\0\\\\1.0\\\\0\\\\0\\end{matrix}\\right]\n",
      "\\left[\\begin{matrix}0.525731112119134\\\\0\\\\0\\\\0\\\\0\\\\0\\\\-0.85065080835204\\\\0\\end{matrix}\\right]\n",
      "\\left[\\begin{matrix}0.85065080835204\\\\0\\\\0\\\\0\\\\0\\\\0\\\\0.525731112119134\\\\0\\end{matrix}\\right]\n"
     ]
    }
   ],
   "source": [
    "# Computing Eigenvectors of p_acd\n",
    "eigenals,eigenvector = rho_acd.eigenstates()\n",
    "for i in range(len(eigenvector)):\n",
    "    eigenvector_sympy = Matrix(eigenvector[i])\n",
    "    print(latex(eigenvector_sympy))"
   ]
  },
  {
   "cell_type": "code",
   "execution_count": 25,
   "id": "d45ebd44",
   "metadata": {},
   "outputs": [
    {
     "name": "stdout",
     "output_type": "stream",
     "text": [
      "\\left[\\begin{matrix}0.276393202250021 & 0 & 0 & 0 & 0 & 0 & -0.447213595499958 & 0\\\\0 & 0 & 0 & 0 & 0 & 0 & 0 & 0\\\\0 & 0 & 0 & 0 & 0 & 0 & 0 & 0\\\\0 & 0 & 0 & 0 & 0 & 0 & 0 & 0\\\\0 & 0 & 0 & 0 & 0 & 0 & 0 & 0\\\\0 & 0 & 0 & 0 & 0 & 0 & 0 & 0\\\\-0.447213595499958 & 0 & 0 & 0 & 0 & 0 & 0.723606797749979 & 0\\\\0 & 0 & 0 & 0 & 0 & 0 & 0 & 0\\end{matrix}\\right]\n"
     ]
    },
    {
     "data": {
      "text/latex": [
       "Quantum object: dims=[[2, 2, 2], [2, 2, 2]], shape=(8, 8), type='oper', dtype=Dense, isherm=True$$\\left(\\begin{array}{cc}0.276 & 0 & 0 & 0 & 0 & 0 & -0.447 & 0\\\\0 & 0 & 0 & 0 & 0 & 0 & 0 & 0\\\\0 & 0 & 0 & 0 & 0 & 0 & 0 & 0\\\\0 & 0 & 0 & 0 & 0 & 0 & 0 & 0\\\\0 & 0 & 0 & 0 & 0 & 0 & 0 & 0\\\\0 & 0 & 0 & 0 & 0 & 0 & 0 & 0\\\\-0.447 & 0 & 0 & 0 & 0 & 0 & 0.724 & 0\\\\0 & 0 & 0 & 0 & 0 & 0 & 0 & 0\\end{array}\\right)$$"
      ],
      "text/plain": [
       "Quantum object: dims=[[2, 2, 2], [2, 2, 2]], shape=(8, 8), type='oper', dtype=Dense, isherm=True\n",
       "Qobj data =\n",
       "[[ 0.2763932  0.         0.         0.         0.         0.\n",
       "  -0.4472136  0.       ]\n",
       " [ 0.         0.         0.         0.         0.         0.\n",
       "   0.         0.       ]\n",
       " [ 0.         0.         0.         0.         0.         0.\n",
       "   0.         0.       ]\n",
       " [ 0.         0.         0.         0.         0.         0.\n",
       "   0.         0.       ]\n",
       " [ 0.         0.         0.         0.         0.         0.\n",
       "   0.         0.       ]\n",
       " [ 0.         0.         0.         0.         0.         0.\n",
       "   0.         0.       ]\n",
       " [-0.4472136  0.         0.         0.         0.         0.\n",
       "   0.7236068  0.       ]\n",
       " [ 0.         0.         0.         0.         0.         0.\n",
       "   0.         0.       ]]"
      ]
     },
     "execution_count": 25,
     "metadata": {},
     "output_type": "execute_result"
    }
   ],
   "source": [
    "# Eigenvector 7th\n",
    "rho_i = ket2dm(eigenvector[6])\n",
    "rho_i_sympy = Matrix(rho_i)\n",
    "print(latex(rho_i_sympy))\n",
    "rho_i"
   ]
  },
  {
   "cell_type": "code",
   "execution_count": 79,
   "id": "dff9b993",
   "metadata": {},
   "outputs": [],
   "source": [
    "# Using Fraction\n",
    "from fractions import Fraction\n",
    "\n",
    "rho = Matrix(rho_acd)\n",
    "rho\n",
    "for j in range(0,len(rho)):\n",
    "    if abs(rho[j]- 1/3) < 0.01:\n",
    "        rho[j] = Fraction(1,3)\n",
    "    elif abs(rho[j] - 1/6) < 0.01:\n",
    "        rho[j] = Fraction(1,6)\n",
    "    elif abs(rho[j] - 0.5) < 0.01:\n",
    "        rho[j] = Fraction(1,2)"
   ]
  },
  {
   "cell_type": "code",
   "execution_count": 83,
   "id": "d681ebd5",
   "metadata": {},
   "outputs": [
    {
     "data": {
      "text/plain": [
       "{5/12 - sqrt(5)/12: 1, sqrt(5)/12 + 5/12: 1, 0: 5, 1/6: 1}"
      ]
     },
     "execution_count": 83,
     "metadata": {},
     "output_type": "execute_result"
    }
   ],
   "source": [
    "rho.eigenvals()"
   ]
  },
  {
   "cell_type": "code",
   "execution_count": 84,
   "id": "641436b5",
   "metadata": {},
   "outputs": [
    {
     "data": {
      "text/plain": [
       "[(0,\n",
       "  5,\n",
       "  [Matrix([\n",
       "   [0],\n",
       "   [1],\n",
       "   [0],\n",
       "   [0],\n",
       "   [0],\n",
       "   [0],\n",
       "   [0],\n",
       "   [0]]),\n",
       "   Matrix([\n",
       "   [0],\n",
       "   [0],\n",
       "   [1],\n",
       "   [0],\n",
       "   [0],\n",
       "   [0],\n",
       "   [0],\n",
       "   [0]]),\n",
       "   Matrix([\n",
       "   [0],\n",
       "   [0],\n",
       "   [0],\n",
       "   [1],\n",
       "   [0],\n",
       "   [0],\n",
       "   [0],\n",
       "   [0]]),\n",
       "   Matrix([\n",
       "   [0],\n",
       "   [0],\n",
       "   [0],\n",
       "   [0],\n",
       "   [1],\n",
       "   [0],\n",
       "   [0],\n",
       "   [0]]),\n",
       "   Matrix([\n",
       "   [0],\n",
       "   [0],\n",
       "   [0],\n",
       "   [0],\n",
       "   [0],\n",
       "   [0],\n",
       "   [0],\n",
       "   [1]])]),\n",
       " (1/6,\n",
       "  1,\n",
       "  [Matrix([\n",
       "   [0],\n",
       "   [0],\n",
       "   [0],\n",
       "   [0],\n",
       "   [0],\n",
       "   [1],\n",
       "   [0],\n",
       "   [0]])]),\n",
       " (5/12 - sqrt(5)/12,\n",
       "  1,\n",
       "  [Matrix([\n",
       "   [1/2 - sqrt(5)/2],\n",
       "   [              0],\n",
       "   [              0],\n",
       "   [              0],\n",
       "   [              0],\n",
       "   [              0],\n",
       "   [              1],\n",
       "   [              0]])]),\n",
       " (sqrt(5)/12 + 5/12,\n",
       "  1,\n",
       "  [Matrix([\n",
       "   [1/2 + sqrt(5)/2],\n",
       "   [              0],\n",
       "   [              0],\n",
       "   [              0],\n",
       "   [              0],\n",
       "   [              0],\n",
       "   [              1],\n",
       "   [              0]])])]"
      ]
     },
     "execution_count": 84,
     "metadata": {},
     "output_type": "execute_result"
    }
   ],
   "source": [
    "rho.eigenvects()"
   ]
  },
  {
   "cell_type": "code",
   "execution_count": 95,
   "id": "5c3566c1",
   "metadata": {},
   "outputs": [
    {
     "data": {
      "text/latex": [
       "$\\displaystyle \\left[\\begin{matrix}\\left(\\frac{1}{2} + \\frac{\\sqrt{5}}{2}\\right)^{2} & 0 & 0 & 0 & 0 & 0 & \\frac{1}{2} + \\frac{\\sqrt{5}}{2} & 0\\\\0 & 0 & 0 & 0 & 0 & 0 & 0 & 0\\\\0 & 0 & 0 & 0 & 0 & 0 & 0 & 0\\\\0 & 0 & 0 & 0 & 0 & 0 & 0 & 0\\\\0 & 0 & 0 & 0 & 0 & 0 & 0 & 0\\\\0 & 0 & 0 & 0 & 0 & 0 & 0 & 0\\\\\\frac{1}{2} + \\frac{\\sqrt{5}}{2} & 0 & 0 & 0 & 0 & 0 & 1 & 0\\\\0 & 0 & 0 & 0 & 0 & 0 & 0 & 0\\end{matrix}\\right]$"
      ],
      "text/plain": [
       "Matrix([\n",
       "[(1/2 + sqrt(5)/2)**2, 0, 0, 0, 0, 0, 1/2 + sqrt(5)/2, 0],\n",
       "[                   0, 0, 0, 0, 0, 0,               0, 0],\n",
       "[                   0, 0, 0, 0, 0, 0,               0, 0],\n",
       "[                   0, 0, 0, 0, 0, 0,               0, 0],\n",
       "[                   0, 0, 0, 0, 0, 0,               0, 0],\n",
       "[                   0, 0, 0, 0, 0, 0,               0, 0],\n",
       "[     1/2 + sqrt(5)/2, 0, 0, 0, 0, 0,               1, 0],\n",
       "[                   0, 0, 0, 0, 0, 0,               0, 0]])"
      ]
     },
     "execution_count": 95,
     "metadata": {},
     "output_type": "execute_result"
    }
   ],
   "source": [
    "from sympy import sqrt, Rational \n",
    "vector = Matrix([Rational(1,2)+ sqrt(Rational(5, 4)),0,0,0,0,0,1,0])\n",
    "matrix = vector* vector.transpose()\n",
    "matrix"
   ]
  },
  {
   "cell_type": "code",
   "execution_count": 26,
   "id": "7ec3b889",
   "metadata": {},
   "outputs": [
    {
     "name": "stdout",
     "output_type": "stream",
     "text": [
      "\\left[\\begin{matrix}0.276393202250021 & 0 & 0 & -0.447213595499958\\\\0 & 0 & 0 & 0\\\\0 & 0 & 0 & 0\\\\-0.447213595499958 & 0 & 0 & 0.723606797749979\\end{matrix}\\right]\n"
     ]
    }
   ],
   "source": [
    "rho_i_d = ptrace(rho_i,[0,1])\n",
    "eigenals, eigenvector = rho_i_d.eigenstates()\n",
    "rho_i_d = Matrix(rho_i_d)\n",
    "\n",
    "print(latex(rho_i_d))"
   ]
  },
  {
   "cell_type": "markdown",
   "id": "7739f083",
   "metadata": {},
   "source": [
    "##### Computing Partial Trace with respect to system C:"
   ]
  },
  {
   "cell_type": "code",
   "execution_count": 27,
   "id": "f97d54e6",
   "metadata": {},
   "outputs": [
    {
     "name": "stdout",
     "output_type": "stream",
     "text": [
      "\\left[\\begin{matrix}0.333333333333333 & 0 & 0 & 0 & 0 & 0 & 0 & 0.166666666666667\\\\0 & 0 & 0 & 0 & 0 & 0 & 0 & 0\\\\0 & 0 & 0.166666666666667 & 0 & 0 & 0 & 0 & 0\\\\0 & 0 & 0 & 0 & 0 & 0 & 0 & 0\\\\0 & 0 & 0 & 0 & 0 & 0 & 0 & 0\\\\0 & 0 & 0 & 0 & 0 & 0 & 0 & 0\\\\0 & 0 & 0 & 0 & 0 & 0 & 0.333333333333333 & 0\\\\0.166666666666667 & 0 & 0 & 0 & 0 & 0 & 0 & 0.166666666666667\\end{matrix}\\right]\n"
     ]
    }
   ],
   "source": [
    "# partial trace with respect to c\n",
    "rho_abd = ptrace(rho,[0,1,3])\n",
    "rho_abd_sympy = Matrix(rho_abd)\n",
    "print(latex(rho_abd_sympy))"
   ]
  },
  {
   "cell_type": "code",
   "execution_count": 28,
   "id": "43a1da68",
   "metadata": {},
   "outputs": [
    {
     "name": "stdout",
     "output_type": "stream",
     "text": [
      "-0.167, 0.000, 0.000, 0.167, 0.167, 0.167, 0.333, 0.333, \n",
      "\n",
      "\\left[\\begin{matrix}0.333333333333333 & 0 & 0 & 0 & 0 & 0 & 0 & 0\\\\0 & 0 & 0 & 0 & 0 & 0 & 0 & 0\\\\0 & 0 & 0.166666666666667 & 0 & 0 & 0 & 0 & 0\\\\0 & 0 & 0 & 0 & 0.166666666666667 & 0 & 0 & 0\\\\0 & 0 & 0 & 0.166666666666667 & 0 & 0 & 0 & 0\\\\0 & 0 & 0 & 0 & 0 & 0 & 0 & 0\\\\0 & 0 & 0 & 0 & 0 & 0 & 0.333333333333333 & 0\\\\0 & 0 & 0 & 0 & 0 & 0 & 0 & 0.166666666666667\\end{matrix}\\right]\n"
     ]
    }
   ],
   "source": [
    "# Partial Transpose with respect to A\n",
    "rho_partial = partial_transpose(rho_abd, [1,0,0]) \n",
    "eigenvals = rho_partial.eigenenergies()\n",
    "\n",
    "for i in range(len(eigenvals)):\n",
    "    print(\"%.3f\"%eigenvals[i],end=\", \")\n",
    "\n",
    "print(\"\\n\")\n",
    "rho_partial_sympy = Matrix(rho_partial.full())\n",
    "print(latex(rho_partial_sympy))"
   ]
  },
  {
   "cell_type": "code",
   "execution_count": 36,
   "id": "1b4fd268",
   "metadata": {},
   "outputs": [
    {
     "name": "stdout",
     "output_type": "stream",
     "text": [
      "-0.103, 0.000, 0.000, 0.000, 0.167, 0.270, 0.333, 0.333, \n",
      "\n",
      "\\left[\\begin{matrix}0.333333333333333 & 0 & 0 & 0 & 0 & 0 & 0 & 0\\\\0 & 0 & 0 & 0 & 0 & 0 & 0 & 0\\\\0 & 0 & 0.166666666666667 & 0 & 0 & 0.166666666666667 & 0 & 0\\\\0 & 0 & 0 & 0 & 0 & 0 & 0 & 0\\\\0 & 0 & 0 & 0 & 0 & 0 & 0 & 0\\\\0 & 0 & 0.166666666666667 & 0 & 0 & 0 & 0 & 0\\\\0 & 0 & 0 & 0 & 0 & 0 & 0.333333333333333 & 0\\\\0 & 0 & 0 & 0 & 0 & 0 & 0 & 0.166666666666667\\end{matrix}\\right]\n"
     ]
    }
   ],
   "source": [
    "# Partial Transpose with respect to B\n",
    "rho_partial = partial_transpose(rho_abd, [0,1,0]) \n",
    "eigenvals = rho_partial.eigenenergies()\n",
    "\n",
    "for i in range(len(eigenvals)):\n",
    "    print(\"%.3f\"%eigenvals[i],end=\", \")\n",
    "\n",
    "print(\"\\n\")\n",
    "rho_partial_sympy = Matrix(rho_partial.full())\n",
    "print(latex(rho_partial_sympy))"
   ]
  },
  {
   "cell_type": "code",
   "execution_count": 37,
   "id": "07b6425c",
   "metadata": {},
   "outputs": [
    {
     "name": "stdout",
     "output_type": "stream",
     "text": [
      "-0.069, 0.000, 0.000, 0.000, 0.167, 0.167, 0.333, 0.402, \n",
      "\n",
      "\\left[\\begin{matrix}0.333333333333333 & 0 & 0 & 0 & 0 & 0 & 0 & 0\\\\0 & 0 & 0 & 0 & 0 & 0 & 0.166666666666667 & 0\\\\0 & 0 & 0.166666666666667 & 0 & 0 & 0 & 0 & 0\\\\0 & 0 & 0 & 0 & 0 & 0 & 0 & 0\\\\0 & 0 & 0 & 0 & 0 & 0 & 0 & 0\\\\0 & 0 & 0 & 0 & 0 & 0 & 0 & 0\\\\0 & 0.166666666666667 & 0 & 0 & 0 & 0 & 0.333333333333333 & 0\\\\0 & 0 & 0 & 0 & 0 & 0 & 0 & 0.166666666666667\\end{matrix}\\right]\n"
     ]
    }
   ],
   "source": [
    "# Partial Transpose with respect to D\n",
    "rho_partial = partial_transpose(rho_abd, [0,0,1]) \n",
    "eigenvals = rho_partial.eigenenergies()\n",
    "\n",
    "for i in range(len(eigenvals)):\n",
    "    print(\"%.3f\"%eigenvals[i],end=\", \")\n",
    "\n",
    "print(\"\\n\")\n",
    "rho_partial_sympy = Matrix(rho_partial.full())\n",
    "print(latex(rho_partial_sympy))"
   ]
  },
  {
   "cell_type": "markdown",
   "id": "94c9e383",
   "metadata": {},
   "source": [
    "##### Computing Partial Trace with respect to system D:"
   ]
  },
  {
   "cell_type": "code",
   "execution_count": 34,
   "id": "75151eb9",
   "metadata": {},
   "outputs": [
    {
     "name": "stdout",
     "output_type": "stream",
     "text": [
      "\\left[\\begin{matrix}0.333333333333333 & 0 & 0 & 0 & 0 & 0 & 0 & 0.166666666666667\\\\0 & 0 & 0 & 0 & 0 & 0 & 0 & 0\\\\0 & 0 & 0.166666666666667 & 0 & 0 & 0 & 0 & 0.166666666666667\\\\0 & 0 & 0 & 0 & 0 & 0 & 0 & 0\\\\0 & 0 & 0 & 0 & 0 & 0 & 0 & 0\\\\0 & 0 & 0 & 0 & 0 & 0 & 0 & 0\\\\0 & 0 & 0 & 0 & 0 & 0 & 0.166666666666667 & 0\\\\0.166666666666667 & 0 & 0.166666666666667 & 0 & 0 & 0 & 0 & 0.333333333333333\\end{matrix}\\right]\n"
     ]
    }
   ],
   "source": [
    "# partial trace with respect to d\n",
    "rho_abc = ptrace(rho,[0,1,2])\n",
    "rho_abc_sympy = Matrix(rho_abc)\n",
    "print(latex(rho_abc_sympy))"
   ]
  },
  {
   "cell_type": "code",
   "execution_count": 41,
   "id": "2f272d1f",
   "metadata": {},
   "outputs": [
    {
     "name": "stdout",
     "output_type": "stream",
     "text": [
      "-0.208, 0.000, 0.000, 0.074, 0.167, 0.300, 0.333, 0.333, \n",
      "\n",
      "\\left[\\begin{matrix}0.333333333333333 & 0 & 0 & 0 & 0 & 0 & 0 & 0\\\\0 & 0 & 0 & 0 & 0 & 0 & 0 & 0\\\\0 & 0 & 0.166666666666667 & 0 & 0 & 0 & 0 & 0\\\\0 & 0 & 0 & 0 & 0.166666666666667 & 0 & 0.166666666666667 & 0\\\\0 & 0 & 0 & 0.166666666666667 & 0 & 0 & 0 & 0\\\\0 & 0 & 0 & 0 & 0 & 0 & 0 & 0\\\\0 & 0 & 0 & 0.166666666666667 & 0 & 0 & 0.166666666666667 & 0\\\\0 & 0 & 0 & 0 & 0 & 0 & 0 & 0.333333333333333\\end{matrix}\\right]\n"
     ]
    }
   ],
   "source": [
    "# Partial Transpose with respect to A\n",
    "rho_partial = partial_transpose(rho_abc, [1,0,0]) \n",
    "eigenvals = rho_partial.eigenenergies()\n",
    "\n",
    "for i in range(len(eigenvals)):\n",
    "    print(\"%.3f\"%eigenvals[i],end=\", \")\n",
    "\n",
    "print(\"\\n\")\n",
    "rho_partial_sympy = Matrix(rho_partial.full())\n",
    "print(latex(rho_partial_sympy))"
   ]
  },
  {
   "cell_type": "code",
   "execution_count": 42,
   "id": "69fdc613",
   "metadata": {},
   "outputs": [
    {
     "name": "stdout",
     "output_type": "stream",
     "text": [
      "-0.122, -0.000, 0.000, 0.000, 0.167, 0.167, 0.333, 0.455, \n",
      "\n",
      "\\left[\\begin{matrix}0.333333333333333 & 0 & 0 & 0 & 0 & 0 & 0 & 0\\\\0 & 0 & 0 & 0 & 0 & 0 & 0 & 0\\\\0 & 0 & 0.166666666666667 & 0 & 0 & 0.166666666666667 & 0 & 0.166666666666667\\\\0 & 0 & 0 & 0 & 0 & 0 & 0 & 0\\\\0 & 0 & 0 & 0 & 0 & 0 & 0 & 0\\\\0 & 0 & 0.166666666666667 & 0 & 0 & 0 & 0 & 0\\\\0 & 0 & 0 & 0 & 0 & 0 & 0.166666666666667 & 0\\\\0 & 0 & 0.166666666666667 & 0 & 0 & 0 & 0 & 0.333333333333333\\end{matrix}\\right]\n"
     ]
    }
   ],
   "source": [
    "# Partial Transpose with respect to B\n",
    "rho_partial = partial_transpose(rho_abc, [0,1,0]) \n",
    "eigenvals = rho_partial.eigenenergies()\n",
    "\n",
    "for i in range(len(eigenvals)):\n",
    "    print(\"%.3f\"%eigenvals[i],end=\", \")\n",
    "\n",
    "print(\"\\n\")\n",
    "rho_partial_sympy = Matrix(rho_partial.full())\n",
    "print(latex(rho_partial_sympy))"
   ]
  },
  {
   "cell_type": "code",
   "execution_count": 44,
   "id": "8a5d31ee",
   "metadata": {},
   "outputs": [
    {
     "name": "stdout",
     "output_type": "stream",
     "text": [
      "-0.167, -0.000, 0.000, 0.000, 0.167, 0.333, 0.333, 0.333, \n",
      "\n",
      "\\left[\\begin{matrix}0.333333333333333 & 0 & 0 & 0 & 0 & 0 & 0 & 0\\\\0 & 0 & 0 & 0 & 0 & 0 & 0.166666666666667 & 0\\\\0 & 0 & 0.166666666666667 & 0 & 0 & 0 & 0 & 0\\\\0 & 0 & 0 & 0 & 0 & 0 & 0.166666666666667 & 0\\\\0 & 0 & 0 & 0 & 0 & 0 & 0 & 0\\\\0 & 0 & 0 & 0 & 0 & 0 & 0 & 0\\\\0 & 0.166666666666667 & 0 & 0.166666666666667 & 0 & 0 & 0.166666666666667 & 0\\\\0 & 0 & 0 & 0 & 0 & 0 & 0 & 0.333333333333333\\end{matrix}\\right]\n"
     ]
    }
   ],
   "source": [
    "# Partial Transpose with respect to C\n",
    "rho_partial = partial_transpose(rho_abc, [0,0,1]) \n",
    "eigenvals = rho_partial.eigenenergies()\n",
    "\n",
    "for i in range(len(eigenvals)):\n",
    "    print(\"%.3f\"%eigenvals[i],end=\", \")\n",
    "\n",
    "print(\"\\n\")\n",
    "rho_partial_sympy = Matrix(rho_partial.full())\n",
    "print(latex(rho_partial_sympy))"
   ]
  },
  {
   "cell_type": "markdown",
   "id": "8201d35f",
   "metadata": {},
   "source": [
    "#### Computing partial trace A and B"
   ]
  },
  {
   "cell_type": "code",
   "execution_count": 48,
   "id": "973020d8",
   "metadata": {},
   "outputs": [
    {
     "name": "stdout",
     "output_type": "stream",
     "text": [
      "\\left[\\begin{matrix}0.5 & 0 & 0 & 0\\\\0 & 0.166666666666667 & 0 & 0\\\\0 & 0 & 0.333333333333333 & 0\\\\0 & 0 & 0 & 0\\end{matrix}\\right]\n",
      "0.000, 0.167, 0.333, 0.500, \n",
      "\n",
      "\\left[\\begin{matrix}0.5 & 0 & 0 & 0\\\\0 & 0.166666666666667 & 0 & 0\\\\0 & 0 & 0.333333333333333 & 0\\\\0 & 0 & 0 & 0\\end{matrix}\\right]\n"
     ]
    }
   ],
   "source": [
    "# partial trace with respect to A and B\n",
    "\n",
    "rho_cd = ptrace(rho_bcd,[1,2])\n",
    "rho_abc_sympy = Matrix(rho_cd)\n",
    "print(latex(rho_abc_sympy))\n",
    "# Partial Transpose with respect to C\n",
    "rho_partial = partial_transpose(rho_cd, [1,0]) \n",
    "eigenvals = rho_partial.eigenenergies()\n",
    "\n",
    "for i in range(len(eigenvals)):\n",
    "    print(\"%.3f\"%eigenvals[i],end=\", \")\n",
    "\n",
    "print(\"\\n\")\n",
    "rho_partial_sympy = Matrix(rho_partial.full())\n",
    "print(latex(rho_partial_sympy))"
   ]
  },
  {
   "cell_type": "code",
   "execution_count": 50,
   "id": "0abd2926",
   "metadata": {},
   "outputs": [
    {
     "name": "stdout",
     "output_type": "stream",
     "text": [
      "\\left[\\begin{matrix}0.5 & 0 & 0 & 0\\\\0 & 0 & 0 & 0\\\\0 & 0 & 0.333333333333333 & 0\\\\0 & 0 & 0 & 0.166666666666667\\end{matrix}\\right]\n",
      "0.000, 0.167, 0.333, 0.500, \n",
      "\n",
      "\\left[\\begin{matrix}0.5 & 0 & 0 & 0\\\\0 & 0 & 0 & 0\\\\0 & 0 & 0.333333333333333 & 0\\\\0 & 0 & 0 & 0.166666666666667\\end{matrix}\\right]\n"
     ]
    }
   ],
   "source": [
    "# partial trace with respect to B and C\n",
    "\n",
    "rho_ad = ptrace(rho_abd,[0,2])\n",
    "rho_abc_sympy = Matrix(rho_ad)\n",
    "print(latex(rho_abc_sympy))\n",
    "# Partial Transpose with respect to C\n",
    "rho_partial = partial_transpose(rho_ad, [1,0]) \n",
    "eigenvals = rho_partial.eigenenergies()\n",
    "\n",
    "for i in range(len(eigenvals)):\n",
    "    print(\"%.3f\"%eigenvals[i],end=\", \")\n",
    "\n",
    "print(\"\\n\")\n",
    "rho_partial_sympy = Matrix(rho_partial.full())\n",
    "print(latex(rho_partial_sympy))"
   ]
  },
  {
   "cell_type": "code",
   "execution_count": 53,
   "id": "c3a9235d",
   "metadata": {},
   "outputs": [
    {
     "name": "stdout",
     "output_type": "stream",
     "text": [
      "\\left[\\begin{matrix}0.333333333333333 & 0 & 0 & 0\\\\0 & 0.166666666666667 & 0 & 0\\\\0 & 0 & 0 & 0\\\\0 & 0 & 0 & 0.5\\end{matrix}\\right]\n",
      "0.000, 0.167, 0.333, 0.500, \n",
      "\n",
      "\\left[\\begin{matrix}0.333333333333333 & 0 & 0 & 0\\\\0 & 0.166666666666667 & 0 & 0\\\\0 & 0 & 0 & 0\\\\0 & 0 & 0 & 0.5\\end{matrix}\\right]\n"
     ]
    }
   ],
   "source": [
    "# partial trace with respect to D and C\n",
    "\n",
    "rho_ab = ptrace(rho_abd,[0,1])\n",
    "rho_abc_sympy = Matrix(rho_ab)\n",
    "print(latex(rho_abc_sympy))\n",
    "# Partial Transpose with respect to C\n",
    "rho_partial = partial_transpose(rho_ab, [1,0]) \n",
    "eigenvals = rho_partial.eigenenergies()\n",
    "\n",
    "for i in range(len(eigenvals)):\n",
    "    print(\"%.3f\"%eigenvals[i],end=\", \")\n",
    "\n",
    "print(\"\\n\")\n",
    "rho_partial_sympy = Matrix(rho_partial.full())\n",
    "print(latex(rho_partial_sympy))"
   ]
  },
  {
   "cell_type": "code",
   "execution_count": 54,
   "id": "012729da",
   "metadata": {},
   "outputs": [
    {
     "name": "stdout",
     "output_type": "stream",
     "text": [
      "\\left[\\begin{matrix}0.333333333333333 & 0 & 0 & 0\\\\0 & 0 & 0 & 0\\\\0 & 0 & 0.333333333333333 & 0\\\\0 & 0 & 0 & 0.333333333333333\\end{matrix}\\right]\n",
      "0.000, 0.333, 0.333, 0.333, \n",
      "\n",
      "\\left[\\begin{matrix}0.333333333333333 & 0 & 0 & 0\\\\0 & 0 & 0 & 0\\\\0 & 0 & 0.333333333333333 & 0\\\\0 & 0 & 0 & 0.333333333333333\\end{matrix}\\right]\n"
     ]
    }
   ],
   "source": [
    "# partial trace with respect to D and C\n",
    "\n",
    "rho_cd = ptrace(rho_bcd,[0,1])\n",
    "rho_abc_sympy = Matrix(rho_cd)\n",
    "print(latex(rho_abc_sympy))\n",
    "# Partial Transpose with respect to C\n",
    "rho_partial = partial_transpose(rho_cd, [1,0]) \n",
    "eigenvals = rho_partial.eigenenergies()\n",
    "\n",
    "for i in range(len(eigenvals)):\n",
    "    print(\"%.3f\"%eigenvals[i],end=\", \")\n",
    "\n",
    "print(\"\\n\")\n",
    "rho_partial_sympy = Matrix(rho_partial.full())\n",
    "print(latex(rho_partial_sympy))"
   ]
  },
  {
   "cell_type": "code",
   "execution_count": 56,
   "id": "57689557",
   "metadata": {},
   "outputs": [
    {
     "name": "stdout",
     "output_type": "stream",
     "text": [
      "\\left[\\begin{matrix}0.5 & 0 & 0 & 0.166666666666667\\\\0 & 0 & 0 & 0\\\\0 & 0 & 0.166666666666667 & 0\\\\0.166666666666667 & 0 & 0 & 0.333333333333333\\end{matrix}\\right]\n",
      "-0.103, 0.270, 0.333, 0.500, \n",
      "\n",
      "\\left[\\begin{matrix}0.5 & 0 & 0 & 0\\\\0 & 0 & 0.166666666666667 & 0\\\\0 & 0.166666666666667 & 0.166666666666667 & 0\\\\0 & 0 & 0 & 0.333333333333333\\end{matrix}\\right]\n"
     ]
    }
   ],
   "source": [
    "# partial trace with respect to D and B\n",
    "\n",
    "rho_ac = ptrace(rho_acd,[0,1])\n",
    "rho_abc_sympy = Matrix(rho_ac)\n",
    "print(latex(rho_abc_sympy))\n",
    "# Partial Transpose with respect to C\n",
    "rho_partial = partial_transpose(rho_ac, [1,0]) \n",
    "eigenvals = rho_partial.eigenenergies()\n",
    "\n",
    "for i in range(len(eigenvals)):\n",
    "    print(\"%.3f\"%eigenvals[i],end=\", \")\n",
    "\n",
    "print(\"\\n\")\n",
    "rho_partial_sympy = Matrix(rho_partial.full())\n",
    "print(latex(rho_partial_sympy))"
   ]
  },
  {
   "cell_type": "code",
   "execution_count": 57,
   "id": "632e70c6",
   "metadata": {},
   "outputs": [
    {
     "name": "stdout",
     "output_type": "stream",
     "text": [
      "\\left[\\begin{matrix}0.333333333333333 & 0 & 0 & 0\\\\0 & 0 & 0 & 0\\\\0 & 0 & 0.5 & 0\\\\0 & 0 & 0 & 0.166666666666667\\end{matrix}\\right]\n",
      "0.000, 0.167, 0.333, 0.500, \n",
      "\n",
      "\\left[\\begin{matrix}0.333333333333333 & 0 & 0 & 0\\\\0 & 0 & 0 & 0\\\\0 & 0 & 0.5 & 0\\\\0 & 0 & 0 & 0.166666666666667\\end{matrix}\\right]\n"
     ]
    }
   ],
   "source": [
    "# partial trace with respect to A and B\n",
    "\n",
    "rho_bd = ptrace(rho_bcd,[0,2])\n",
    "rho_abc_sympy = Matrix(rho_bd)\n",
    "print(latex(rho_abc_sympy))\n",
    "# Partial Transpose with respect to C\n",
    "rho_partial = partial_transpose(rho_bd, [1,0]) \n",
    "eigenvals = rho_partial.eigenenergies()\n",
    "\n",
    "for i in range(len(eigenvals)):\n",
    "    print(\"%.3f\"%eigenvals[i],end=\", \")\n",
    "\n",
    "print(\"\\n\")\n",
    "rho_partial_sympy = Matrix(rho_partial.full())\n",
    "print(latex(rho_partial_sympy))"
   ]
  },
  {
   "cell_type": "code",
   "execution_count": null,
   "id": "c122cfea",
   "metadata": {},
   "outputs": [],
   "source": []
  }
 ],
 "metadata": {
  "kernelspec": {
   "display_name": "Python 3",
   "language": "python",
   "name": "python3"
  },
  "language_info": {
   "codemirror_mode": {
    "name": "ipython",
    "version": 3
   },
   "file_extension": ".py",
   "mimetype": "text/x-python",
   "name": "python",
   "nbconvert_exporter": "python",
   "pygments_lexer": "ipython3",
   "version": "3.10.12"
  }
 },
 "nbformat": 4,
 "nbformat_minor": 5
}
