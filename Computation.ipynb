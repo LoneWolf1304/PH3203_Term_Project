{
 "cells": [
  {
   "cell_type": "code",
   "execution_count": null,
   "id": "060a4d75",
   "metadata": {},
   "outputs": [],
   "source": [
    "from qutip import *\n",
    "from sympy import Matrix, latex\n",
    "\n",
    "ket0 = basis(2,0) # Up State\n",
    "ket1 = basis(2,1) # Down State\n",
    "\n",
    "\n",
    "# Wavefunction given for in the 3_1\n",
    "psi = (tensor(ket1, ket0, ket0) + tensor(ket0, ket1, ket0) + tensor(ket1, ket1, ket0) + tensor(ket0, ket1, ket1)).unit()\n",
    "rho = ket2dm(psi)"
   ]
  },
  {
   "cell_type": "code",
   "execution_count": 13,
   "id": "1b4acc02",
   "metadata": {},
   "outputs": [
    {
     "name": "stdout",
     "output_type": "stream",
     "text": [
      "\\left[\\begin{matrix}0 & 0 & 0 & 0 & 0 & 0 & 0 & 0\\\\0 & 0 & 0 & 0 & 0 & 0 & 0 & 0\\\\0 & 0 & 0.25 & 0.25 & 0.25 & 0 & 0.25 & 0\\\\0 & 0 & 0.25 & 0.25 & 0.25 & 0 & 0.25 & 0\\\\0 & 0 & 0.25 & 0.25 & 0.25 & 0 & 0.25 & 0\\\\0 & 0 & 0 & 0 & 0 & 0 & 0 & 0\\\\0 & 0 & 0.25 & 0.25 & 0.25 & 0 & 0.25 & 0\\\\0 & 0 & 0 & 0 & 0 & 0 & 0 & 0\\end{matrix}\\right]\n"
     ]
    }
   ],
   "source": [
    "rho_sympy = Matrix(rho.full())\n",
    "print(latex(rho_sympy))"
   ]
  },
  {
   "cell_type": "code",
   "execution_count": null,
   "id": "74fae585",
   "metadata": {},
   "outputs": [
    {
     "name": "stdout",
     "output_type": "stream",
     "text": [
      "-0.43301, -0.00000, 0.00000, 0.00000, 0.00000, 0.25000, 0.43301, 0.75000, \n",
      "\n",
      "\\left[\\begin{matrix}0 & 0 & 0 & 0 & 0 & 0 & 0.25 & 0.25\\\\0 & 0 & 0 & 0 & 0 & 0 & 0 & 0\\\\0 & 0 & 0.25 & 0.25 & 0 & 0 & 0.25 & 0.25\\\\0 & 0 & 0.25 & 0.25 & 0 & 0 & 0 & 0\\\\0 & 0 & 0 & 0 & 0.25 & 0 & 0.25 & 0\\\\0 & 0 & 0 & 0 & 0 & 0 & 0 & 0\\\\0.25 & 0 & 0.25 & 0 & 0.25 & 0 & 0.25 & 0\\\\0.25 & 0 & 0.25 & 0 & 0 & 0 & 0 & 0\\end{matrix}\\right]\n"
     ]
    }
   ],
   "source": [
    "rho_partial = partial_transpose(rho, [1,0,0]) # Partial Transpose with respect to subsystem a\n",
    "eigenvals = rho_partial.eigenenergies()\n",
    "\n",
    "for i in range(len(eigenvals)):\n",
    "    print(\"%.5f\"%eigenvals[i],end=\", \")\n",
    "\n",
    "print(\"\\n\")\n",
    "rho_partial_sympy = Matrix(rho_partial.full())\n",
    "print(latex(rho_partial_sympy))"
   ]
  },
  {
   "cell_type": "code",
   "execution_count": null,
   "id": "c82af33c",
   "metadata": {},
   "outputs": [
    {
     "name": "stdout",
     "output_type": "stream",
     "text": [
      "[-3.53553391e-01 -1.44395746e-16  0.00000000e+00  0.00000000e+00\n",
      "  2.39382901e-17  1.46446609e-01  3.53553391e-01  8.53553391e-01]\n",
      "\\left[\\begin{matrix}0 & 0 & 0 & 0 & 0 & 0 & 0.25 & 0\\\\0 & 0 & 0 & 0 & 0 & 0 & 0.25 & 0\\\\0 & 0 & 0.25 & 0.25 & 0 & 0 & 0.25 & 0\\\\0 & 0 & 0.25 & 0.25 & 0 & 0 & 0.25 & 0\\\\0 & 0 & 0 & 0 & 0.25 & 0 & 0.25 & 0\\\\0 & 0 & 0 & 0 & 0 & 0 & 0 & 0\\\\0.25 & 0.25 & 0.25 & 0.25 & 0.25 & 0 & 0.25 & 0\\\\0 & 0 & 0 & 0 & 0 & 0 & 0 & 0\\end{matrix}\\right]\n"
     ]
    }
   ],
   "source": [
    "rho_partial = partial_transpose(rho, [0,1,0]) # Partial Transpose with respect to subsytem b\n",
    "eigenvals = rho_partial.eigenenergies()\n",
    "print(eigenvals)\n",
    "\n",
    "rho_partial_sympy = Matrix(rho_partial.full())\n",
    "print(latex(rho_partial_sympy))\n"
   ]
  },
  {
   "cell_type": "code",
   "execution_count": null,
   "id": "2e01cb4f",
   "metadata": {},
   "outputs": [
    {
     "name": "stdout",
     "output_type": "stream",
     "text": [
      "[-4.33012702e-01 -4.67016704e-18  4.49117058e-17  5.16626570e-17\n",
      "  1.59443983e-16  2.50000000e-01  4.33012702e-01  7.50000000e-01]\n",
      "\\left[\\begin{matrix}0 & 0 & 0 & 0 & 0 & 0 & 0.25 & 0.25\\\\0 & 0 & 0 & 0 & 0 & 0 & 0 & 0\\\\0 & 0 & 0.25 & 0.25 & 0 & 0 & 0.25 & 0.25\\\\0 & 0 & 0.25 & 0.25 & 0 & 0 & 0 & 0\\\\0 & 0 & 0 & 0 & 0.25 & 0 & 0.25 & 0\\\\0 & 0 & 0 & 0 & 0 & 0 & 0 & 0\\\\0.25 & 0 & 0.25 & 0 & 0.25 & 0 & 0.25 & 0\\\\0.25 & 0 & 0.25 & 0 & 0 & 0 & 0 & 0\\end{matrix}\\right]\n"
     ]
    }
   ],
   "source": [
    "rho_partial = partial_transpose(rho_partial, [0,0,1]) # Partial Transpose with respect to subsystem c\n",
    "eigenvals = rho_partial.eigenenergies()\n",
    "print(eigenvals)\n",
    "\n",
    "rho_partial_sympy = Matrix(rho_partial.full())\n",
    "print(latex(rho_partial_sympy))\n"
   ]
  },
  {
   "cell_type": "code",
   "execution_count": 37,
   "id": "57c26277",
   "metadata": {},
   "outputs": [
    {
     "name": "stdout",
     "output_type": "stream",
     "text": [
      "\\left[\\begin{matrix}0.25 & 0 & 0.25 & 0\\\\0 & 0 & 0 & 0\\\\0.25 & 0 & 0.5 & 0.25\\\\0 & 0 & 0.25 & 0.25\\end{matrix}\\right]\n"
     ]
    }
   ],
   "source": [
    "# partial trace with respect to a\n",
    "rho_pa = ptrace(rho,[1,2])\n",
    "rho_pa_sympy = Matrix(rho_pa)\n",
    "print(latex(rho_pa_sympy))"
   ]
  },
  {
   "cell_type": "code",
   "execution_count": 40,
   "id": "f1757dd8",
   "metadata": {},
   "outputs": [
    {
     "name": "stdout",
     "output_type": "stream",
     "text": [
      "\\left[\\begin{matrix}0.25 & 0.25 & 0.25 & 0\\\\0.25 & 0.25 & 0.25 & 0\\\\0.25 & 0.25 & 0.5 & 0\\\\0 & 0 & 0 & 0\\end{matrix}\\right]\n"
     ]
    }
   ],
   "source": [
    "# partial trace with respect to b\n",
    "rho_pb = ptrace(rho,[0,2])\n",
    "rho_pb_sympy = Matrix(rho_pb)\n",
    "print(latex(rho_pb_sympy))\n"
   ]
  },
  {
   "cell_type": "code",
   "execution_count": null,
   "id": "6f797472",
   "metadata": {},
   "outputs": [
    {
     "name": "stdout",
     "output_type": "stream",
     "text": [
      "\\left[\\begin{matrix}0 & 0 & 0 & 0\\\\0 & 0.5 & 0.25 & 0.25\\\\0 & 0.25 & 0.25 & 0.25\\\\0 & 0.25 & 0.25 & 0.25\\end{matrix}\\right]\n"
     ]
    }
   ],
   "source": [
    "# partial trace with respect to c\n",
    "rho_pc = ptrace(rho,[0,1])\n",
    "rho_pc_sympy = Matrix(rho_pc)\n",
    "print(latex(rho_pc_sympy))"
   ]
  },
  {
   "cell_type": "code",
   "execution_count": 44,
   "id": "d4edd1dc",
   "metadata": {},
   "outputs": [
    {
     "name": "stdout",
     "output_type": "stream",
     "text": [
      "[0.00000000e+00 9.81263409e-18 2.50000000e-01 7.50000000e-01]\n",
      "\\left[\\begin{matrix}0.25 & 0 & 0.25 & 0\\\\0 & 0 & 0 & 0\\\\0.25 & 0 & 0.5 & 0.25\\\\0 & 0 & 0.25 & 0.25\\end{matrix}\\right]\n"
     ]
    }
   ],
   "source": [
    "rho_a_pb = partial_transpose(rho_pa, [1,0]) # partial trace of p_bc with respect to a\n",
    "eigenvals = rho_a_pb.eigenenergies()\n",
    "\n",
    "print(eigenvals)\n",
    "\n",
    "matrix = Matrix(rho_a_pb.full())\n",
    "print(latex(matrix))"
   ]
  },
  {
   "cell_type": "code",
   "execution_count": 48,
   "id": "ec632cfa",
   "metadata": {},
   "outputs": [
    {
     "name": "stdout",
     "output_type": "stream",
     "text": [
      "[-0.23296291  0.12059048  0.37940952  0.73296291]\n",
      "\\left[\\begin{matrix}0 & 0 & 0 & 0.25\\\\0 & 0.5 & 0 & 0.25\\\\0 & 0 & 0.25 & 0.25\\\\0.25 & 0.25 & 0.25 & 0.25\\end{matrix}\\right]\n"
     ]
    }
   ],
   "source": [
    "rho_a_pc = partial_transpose(rho_pc, [1,0]) # partial trace of p_bc with respect to a\n",
    "eigenvals = rho_a_pc.eigenenergies()\n",
    "\n",
    "print(eigenvals)\n",
    "\n",
    "matrix = Matrix(rho_a_pc.full())\n",
    "print(latex(matrix))"
   ]
  },
  {
   "cell_type": "code",
   "execution_count": 46,
   "id": "3b2f7461",
   "metadata": {},
   "outputs": [
    {
     "name": "stdout",
     "output_type": "stream",
     "text": [
      "[-0.23296291  0.12059048  0.37940952  0.73296291]\n",
      "\\left[\\begin{matrix}0.25 & 0.25 & 0.25 & 0.25\\\\0.25 & 0.25 & 0 & 0\\\\0.25 & 0 & 0.5 & 0\\\\0.25 & 0 & 0 & 0\\end{matrix}\\right]\n"
     ]
    }
   ],
   "source": [
    "rho_b_pa = partial_transpose(rho_pb, [1,0]) # partial trace of p_bc with respect to a\n",
    "eigenvals = rho_b_pa.eigenenergies()\n",
    "\n",
    "print(eigenvals)\n",
    "\n",
    "matrix = Matrix(rho_b_pa.full())\n",
    "print(latex(matrix))"
   ]
  },
  {
   "cell_type": "code",
   "execution_count": null,
   "id": "90fb5165",
   "metadata": {},
   "outputs": [],
   "source": []
  }
 ],
 "metadata": {
  "kernelspec": {
   "display_name": "Python 3",
   "language": "python",
   "name": "python3"
  },
  "language_info": {
   "codemirror_mode": {
    "name": "ipython",
    "version": 3
   },
   "file_extension": ".py",
   "mimetype": "text/x-python",
   "name": "python",
   "nbconvert_exporter": "python",
   "pygments_lexer": "ipython3",
   "version": "3.10.12"
  }
 },
 "nbformat": 4,
 "nbformat_minor": 5
}
